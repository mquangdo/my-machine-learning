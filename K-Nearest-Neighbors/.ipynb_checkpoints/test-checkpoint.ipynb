{
 "cells": [
  {
   "cell_type": "code",
   "execution_count": 63,
   "id": "aec2f9ea-747d-473f-a4f1-710d8b587e72",
   "metadata": {},
   "outputs": [],
   "source": [
    "import numpy as np\n",
    "from sklearn import neighbors, datasets\n",
    "from sklearn.model_selection import train_test_split # for splitting data\n",
    "from sklearn.metrics import accuracy_score # for evaluating results"
   ]
  },
  {
   "cell_type": "code",
   "execution_count": 65,
   "id": "f59c810c-d4a8-4285-b6fd-340b0e10fb67",
   "metadata": {},
   "outputs": [
    {
     "name": "stdout",
     "output_type": "stream",
     "text": [
      "Labels: [0 1 2]\n",
      "Train size: 20 , test size: 130\n"
     ]
    }
   ],
   "source": [
    "np.random.seed(7)\n",
    "iris = datasets.load_iris()\n",
    "iris_X = iris.data\n",
    "iris_y = iris.target\n",
    "print('Labels:', np.unique(iris_y))\n",
    "# split train and test\n",
    "X_train, X_test, y_train, y_test = train_test_split(iris_X, iris_y, test_size=130)\n",
    "print('Train size:', X_train.shape[0], ', test size:', X_test.shape[0])"
   ]
  },
  {
   "cell_type": "markdown",
   "id": "2f140833-f1f1-4622-b5e0-0793bb6d25db",
   "metadata": {},
   "source": [
    "Dòng np.random.seed(7) để đảm bảo rằng khi các bạn chạy lại các đoạn code này cũng nhận\r\n",
    "được kết quả tương tự. Có thể thay 7 bằng một số tự nhiên bất kỳ 32 bit"
   ]
  },
  {
   "cell_type": "code",
   "execution_count": 68,
   "id": "af5e7e23-897a-4558-aef4-a8e60cf27d7a",
   "metadata": {},
   "outputs": [
    {
     "name": "stdout",
     "output_type": "stream",
     "text": [
      "Accuracy of 1NN: 92.31 %\n"
     ]
    }
   ],
   "source": [
    "model = neighbors.KNeighborsClassifier(n_neighbors = 1, p = 2)\n",
    "model.fit(X_train, y_train)\n",
    "y_pred = model.predict(X_test)\n",
    "print(\"Accuracy of 1NN: %.2f %%\" %(100*accuracy_score(y_test, y_pred)))"
   ]
  },
  {
   "cell_type": "markdown",
   "id": "3d1959ee-9058-47ef-a886-9425d78f8b49",
   "metadata": {},
   "source": [
    "Như đã đề cập, 1NN rất dễ gây ra hiện tượng overfitting. Để giảm thiểu việc này, ta có thể\r\n",
    "tăng lượng điểm lân cận lên, ví dụ bảy điểm, và xem xét trong bảy điểm gần nhất, đa số\r\n",
    "chúng thuộc vào class nào"
   ]
  },
  {
   "cell_type": "code",
   "execution_count": 71,
   "id": "5e4dff06-fa68-4f44-84eb-8dc94f0e2285",
   "metadata": {},
   "outputs": [
    {
     "name": "stdout",
     "output_type": "stream",
     "text": [
      "Accuracy of 7NN: 93.85 %\n"
     ]
    }
   ],
   "source": [
    "model = neighbors.KNeighborsClassifier(n_neighbors = 7, p = 2)\n",
    "model.fit(X_train, y_train)\n",
    "y_pred = model.predict(X_test)\n",
    "print(\"Accuracy of 7NN: %.2f %%\" %(100*accuracy_score(y_test, y_pred)))"
   ]
  },
  {
   "cell_type": "markdown",
   "id": "2a3e7631-59b7-4701-a456-ec0deddc5086",
   "metadata": {},
   "source": [
    "# Đánh trọng số cho các điểm gần hơn"
   ]
  },
  {
   "cell_type": "markdown",
   "id": "04398c07-d6c7-4c94-852b-bab52cf90a22",
   "metadata": {},
   "source": [
    "Trong kỹ thuật major voting bên trên, mỗi trong bảy điểm gần nhất được coi là có vai trò\n",
    "như nhau và giá trị lá phiếu của mỗi điểm này là như nhau. Như thế có thể không công\n",
    "bằng, vì những điểm gần hơn cần có trọng số cao hơn. Vì vậy, ta sẽ đánh trọng số khác\n",
    "nhau cho mỗi trong bảy điểm gần nhất này. Cách đánh trọng số phải thoải mãn điều kiện là\n",
    "một điểm càng gần điểm kiểm thử phải được đánh trọng số càng cao. Cách đơn giản nhất\n",
    "là lấy nghịch đảo của khoảng cách này. Trong trường hợp test data trùng với một điểm dữ\n",
    "liệu trong training data, tức khoảng cách bằng 0, ta lấy luôn đầu ra của điểm training data.\n",
    "Scikit-learn giúp chúng ta đơn giản hóa việc này bằng cách gán thuộc tính weights = ’\n",
    "distance’. (Giá trị mặc định của weights là ’uniform’, tương ứng với việc coi tất cả các điểm\n",
    "lân cận có giá trị như nhau như ở trên)."
   ]
  },
  {
   "cell_type": "code",
   "execution_count": 75,
   "id": "c61a2b25-a363-4b3f-addf-c24cf852c60b",
   "metadata": {},
   "outputs": [
    {
     "name": "stdout",
     "output_type": "stream",
     "text": [
      "Accuracy of 7NN: 94.62 %\n"
     ]
    }
   ],
   "source": [
    "model = neighbors.KNeighborsClassifier(n_neighbors = 7, p = 2, weights = 'distance')\n",
    "model.fit(X_train, y_train)\n",
    "y_pred = model.predict(X_test)\n",
    "print(\"Accuracy of 7NN: %.2f %%\" %(100*accuracy_score(y_test, y_pred)))"
   ]
  },
  {
   "cell_type": "code",
   "execution_count": null,
   "id": "75778687-cf11-4b11-b42b-a1f8d351f52c",
   "metadata": {},
   "outputs": [],
   "source": []
  }
 ],
 "metadata": {
  "kernelspec": {
   "display_name": "Python 3 (ipykernel)",
   "language": "python",
   "name": "python3"
  },
  "language_info": {
   "codemirror_mode": {
    "name": "ipython",
    "version": 3
   },
   "file_extension": ".py",
   "mimetype": "text/x-python",
   "name": "python",
   "nbconvert_exporter": "python",
   "pygments_lexer": "ipython3",
   "version": "3.12.4"
  }
 },
 "nbformat": 4,
 "nbformat_minor": 5
}
