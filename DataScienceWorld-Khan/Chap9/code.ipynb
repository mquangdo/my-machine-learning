{
 "cells": [
  {
   "cell_type": "markdown",
   "id": "e62792a2-c2f9-433d-856c-b778fd023ed8",
   "metadata": {},
   "source": [
    "# Chap 9"
   ]
  },
  {
   "cell_type": "markdown",
   "id": "5036fd96-86fa-4418-9e62-451b22ce5db7",
   "metadata": {},
   "source": [
    "## Voting classifier"
   ]
  },
  {
   "cell_type": "markdown",
   "id": "afbf65f8-55a2-4a1d-8cb9-5a31bbc66893",
   "metadata": {},
   "source": [
    "Sử dụng nhiều mô hình dự đoán để cho ra mô hình tốt hơn (sử dụng wisdom of the crowd)."
   ]
  },
  {
   "cell_type": "markdown",
   "id": "f951bf0d-3263-4a4f-a293-41ede5ce77ab",
   "metadata": {},
   "source": [
    "![Alt text](image\\TGEOokD.png)"
   ]
  },
  {
   "cell_type": "code",
   "execution_count": 12,
   "id": "eb418c05-695b-48a0-9da4-5f927be73753",
   "metadata": {},
   "outputs": [],
   "source": [
    "from sklearn.linear_model import LogisticRegression\n",
    "from sklearn.svm import SVC\n",
    "from sklearn.tree import DecisionTreeClassifier\n",
    "from sklearn.ensemble import VotingClassifier\n",
    "from sklearn.model_selection import RepeatedStratifiedKFold\n",
    "from sklearn.model_selection import cross_val_score\n",
    "from sklearn.metrics import accuracy_score\n",
    "from sklearn.datasets import load_iris\n",
    "from sklearn.datasets import make_blobs\n",
    "import numpy as np\n",
    "\n",
    "# Load the dataset \n",
    "iris = load_iris()\n",
    "X = iris.data\n",
    "y = iris.target == 1\n",
    "\n",
    "# Three model in ensemble learning\n",
    "log_clf = LogisticRegression()\n",
    "svm_clf = SVC()\n",
    "tree_clf = DecisionTreeClassifier(max_depth=3)\n",
    "\n",
    "voting_clf = VotingClassifier(\n",
    "  estimators=[('lr', log_clf), ('svc', svm_clf), ('tree_clf', tree_clf)],\n",
    "  voting='hard'\n",
    ")\n",
    "\n",
    "cv = RepeatedStratifiedKFold(n_splits=3, n_repeats=5, random_state=1)"
   ]
  },
  {
   "cell_type": "code",
   "execution_count": 15,
   "id": "ffaffe2d-b371-436d-bcf8-f8ded7623eef",
   "metadata": {},
   "outputs": [
    {
     "name": "stdout",
     "output_type": "stream",
     "text": [
      "Logistic Regression Mean Accuracy: 0.713\n",
      "SVM Mean Mean Accuracy: 0.941\n",
      "DecisionTree Classifier Mean Accuracy: 0.941\n"
     ]
    }
   ],
   "source": [
    "# Đánh giá mô hình trên từng mô hình đơn lẻ\n",
    "scores = cross_val_score(log_clf, X, y, scoring='accuracy', cv=cv, n_jobs=-1)\n",
    "print('Logistic Regression Mean Accuracy: {:.03f}'.format(np.mean(scores)))\n",
    "scores = cross_val_score(svm_clf, X, y, scoring='accuracy', cv=cv, n_jobs=-1)\n",
    "print('SVM Mean Mean Accuracy: {:.03f}'.format(np.mean(scores)))\n",
    "scores = cross_val_score(tree_clf, X, y, scoring='accuracy', cv=cv, n_jobs=-1)\n",
    "print('DecisionTree Classifier Mean Accuracy: {:.03f}'.format(np.mean(scores)))"
   ]
  },
  {
   "cell_type": "code",
   "execution_count": 17,
   "id": "fa28f093-806d-4b2a-b065-39029afa80a0",
   "metadata": {},
   "outputs": [
    {
     "name": "stdout",
     "output_type": "stream",
     "text": [
      "Voting Classifier Mean Accuracy: 0.949\n"
     ]
    }
   ],
   "source": [
    "# Đánh giá mô hình trên mô hình kết hợp\n",
    "scores = cross_val_score(voting_clf, X, y, scoring='accuracy', cv=cv, n_jobs=-1)\n",
    "print('Voting Classifier Mean Accuracy: {:.03f}'.format(np.mean(scores)))"
   ]
  },
  {
   "cell_type": "markdown",
   "id": "fb30f9dc-c703-4ff5-a998-3f263bb23eff",
   "metadata": {},
   "source": [
    "## Bagging "
   ]
  },
  {
   "cell_type": "markdown",
   "id": "52b051b2-02a2-4626-80b6-e589e582069c",
   "metadata": {},
   "source": [
    "![Alt text](image/definition.png)"
   ]
  },
  {
   "cell_type": "markdown",
   "id": "a1f657c8-ff0e-49a0-9119-aadd1cd25b93",
   "metadata": {},
   "source": [
    "![Alt text](image\\hpOFHo3.png)"
   ]
  },
  {
   "cell_type": "markdown",
   "id": "279a2b78-d31d-442a-a392-a73ca3e8dc88",
   "metadata": {},
   "source": [
    "![Alt text](image\\choosing_result.png)"
   ]
  },
  {
   "cell_type": "code",
   "execution_count": 20,
   "id": "95115914-5c2e-45d2-92c9-14cd119a75d2",
   "metadata": {},
   "outputs": [
    {
     "name": "stdout",
     "output_type": "stream",
     "text": [
      "Logistic Regression Mean Accuracy: 0.945\n"
     ]
    }
   ],
   "source": [
    "from sklearn.ensemble import BaggingClassifier\n",
    "from sklearn.tree import DecisionTreeClassifier\n",
    "\n",
    "bag_clf = BaggingClassifier(\n",
    "  DecisionTreeClassifier(), \n",
    "  n_estimators=200,\n",
    "  max_samples=100, \n",
    "  bootstrap=True, \n",
    "  n_jobs=-1\n",
    ")\n",
    "\n",
    "bag_clf.fit(X, y)\n",
    "\n",
    "scores = cross_val_score(bag_clf, X, y, scoring='accuracy', cv=cv, n_jobs=-1)\n",
    "print('Logistic Regression Mean Accuracy: {:.03f}'.format(np.mean(scores)))"
   ]
  },
  {
   "cell_type": "markdown",
   "id": "43ee5e56-619c-4b2c-a597-1b5dd9908e0b",
   "metadata": {},
   "source": []
  }
 ],
 "metadata": {
  "kernelspec": {
   "display_name": "Python 3 (ipykernel)",
   "language": "python",
   "name": "python3"
  },
  "language_info": {
   "codemirror_mode": {
    "name": "ipython",
    "version": 3
   },
   "file_extension": ".py",
   "mimetype": "text/x-python",
   "name": "python",
   "nbconvert_exporter": "python",
   "pygments_lexer": "ipython3",
   "version": "3.12.4"
  }
 },
 "nbformat": 4,
 "nbformat_minor": 5
}
