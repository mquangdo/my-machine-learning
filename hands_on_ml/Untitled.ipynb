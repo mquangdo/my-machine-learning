{
 "cells": [
  {
   "cell_type": "code",
   "execution_count": 1,
   "id": "1eb7efaa-f8a9-4eb3-96bb-8a42d15b7203",
   "metadata": {},
   "outputs": [
    {
     "name": "stdout",
     "output_type": "stream",
     "text": [
      "200\n"
     ]
    }
   ],
   "source": [
    "import requests\n",
    "from bs4 import BeautifulSoup\n",
    "\n",
    "target_url=\"https://www.netflix.com/in/title/80057281\"\n",
    "resp = requests.get(target_url)\n",
    "print(resp.status_code)"
   ]
  },
  {
   "cell_type": "code",
   "execution_count": 3,
   "id": "90216361-5083-403e-bd63-10ba64a61463",
   "metadata": {},
   "outputs": [],
   "source": [
    "soup=BeautifulSoup(resp.text, 'html.parser')\n",
    "\n",
    "l=list()\n",
    "o={}\n",
    "e={}\n",
    "d={}\n",
    "m={}\n",
    "c={}"
   ]
  },
  {
   "cell_type": "code",
   "execution_count": 5,
   "id": "e05123fa-bedd-413e-b042-ef556c15d56d",
   "metadata": {},
   "outputs": [],
   "source": [
    "o[\"name\"]=soup.find(\"h1\", {\"class\":\"title-title\"}).text\n",
    "\n",
    "o[\"seasons\"] = soup.find(\"span\", {\"class\":\"duration\"}).text\n",
    "\n",
    "o[\"about\"] = soup.find(\"div\", {\"class\":\"hook-text\"}).text"
   ]
  },
  {
   "cell_type": "code",
   "execution_count": 11,
   "id": "5ba58940-c0e4-4870-a7c8-1830b836f869",
   "metadata": {},
   "outputs": [],
   "source": [
    "episodes = soup.find(\"ol\",{\"class\":\"episodes-container\"}).find_all(\"li\")\n",
    "\n",
    "for i in range(0,len(episodes)):\n",
    "    e[\"episode-title\"]=episodes[i].find(\"h3\",{\"class\":\"episode-title\"}).text\n",
    "    e[\"episode-description\"]=episodes[i].find(\"p\",{\"class\":\"epsiode-synopsis\"}).text\n",
    "    l.append(e)\n",
    "    e={}"
   ]
  },
  {
   "cell_type": "code",
   "execution_count": 13,
   "id": "58cd51e1-a3d1-488a-8e98-9f5586571cb9",
   "metadata": {},
   "outputs": [],
   "source": [
    "genres = soup.find_all(\"span\",{\"class\":\"item-genres\"})\n",
    "for x in range(0,len(genres)):\n",
    "  d[\"genre\"]=genres[x].text.replace(\",\",\"\")\n",
    "  l.append(d)\n",
    "  d={}"
   ]
  },
  {
   "cell_type": "code",
   "execution_count": 15,
   "id": "b8710de6-c1e5-4331-b728-475520aa43b8",
   "metadata": {},
   "outputs": [
    {
     "name": "stdout",
     "output_type": "stream",
     "text": [
      "[{'episode-title': '1. Chapter One: The Vanishing of Will Byers', 'episode-description': \"On his way home from a friend's house, young Will sees something terrifying. Nearby, a sinister secret lurks in the depths of a government lab.\"}, {'episode-title': '2. Chapter Two: The Weirdo on Maple Street', 'episode-description': 'Lucas, Mike and Dustin try to talk to the girl they found in the woods. Hopper questions an anxious Joyce about an unsettling phone call.'}, {'episode-title': '3. Chapter Three: Holly, Jolly', 'episode-description': \"An increasingly concerned Nancy looks for Barb and finds out what Jonathan's been up to. Joyce is convinced Will is trying to talk to her.\"}, {'episode-title': '4. Chapter Four: The Body', 'episode-description': 'Refusing to believe Will is dead, Joyce tries to connect with her son. The boys give Eleven a makeover. Nancy and Jonathan form an unlikely alliance.'}, {'episode-title': '5. Chapter Five: The Flea and the Acrobat', 'episode-description': 'Hopper breaks into the lab while Nancy and Jonathan confront the force that took Will. The boys ask Mr. Clarke how to travel to another dimension.'}, {'episode-title': '6. Chapter Six: The Monster', 'episode-description': \"A frantic Jonathan looks for Nancy in the darkness, but Steve's looking for her, too. Hopper and Joyce uncover the truth about the lab's experiments.\"}, {'episode-title': '7. Chapter Seven: The Bathtub', 'episode-description': 'Eleven struggles to reach Will, while Lucas warns that \"the bad men are coming.\" Nancy and Jonathan show the police what Jonathan caught on camera.'}, {'episode-title': '8. Chapter Eight: The Upside Down', 'episode-description': \"Dr. Brenner holds Hopper and Joyce for questioning while the boys wait with Eleven in the gym. Back at Will's, Nancy and Jonathan prepare for battle.\"}, {'genre': 'Sci-Fi TV '}, {'genre': 'Teen TV Shows '}, {'genre': 'US TV Shows '}, {'genre': 'Horror TV Serials'}, {'mood': 'Nostalgic '}, {'mood': 'Ominous '}, {'mood': 'Scary'}, {'cast': 'Winona Ryder'}, {'cast': 'David Harbour'}, {'cast': 'Millie Bobby Brown'}, {'cast': 'Finn Wolfhard'}, {'cast': 'Gaten Matarazzo'}, {'cast': 'Caleb McLaughlin'}, {'cast': 'Noah Schnapp'}, {'cast': 'Sadie Sink'}, {'cast': 'Natalia Dyer'}, {'cast': 'Charlie Heaton'}, {'cast': 'Joe Keery'}, {'cast': 'Maya Hawke'}, {'cast': 'Brett Gelman'}, {'cast': 'Priah Ferguson'}, {'cast': 'Dacre Montgomery'}, {'cast': 'Cara Buono'}, {'cast': 'Matthew Modine'}, {'cast': 'Paul Reiser'}, {'cast': 'Sean Astin'}, {'cast': 'Shannon Purser'}, {'name': 'Stranger Things', 'seasons': '4 Seasons', 'about': \"This nostalgic nod to '80s sci-fi and horror classics has earned dozens of Emmy nominations, including three for Outstanding Drama.\", 'facebook': 'https://www.facebook.com/StrangerThingsTV/', 'twitter': 'https://twitter.com/stranger_things', 'instagram': 'https://www.instagram.com/strangerthingstv'}]\n"
     ]
    }
   ],
   "source": [
    "mood = soup.find_all(\"span\",{\"class\":\"item-mood-tag\"})\n",
    "for y in range(0,len(mood)):\n",
    "  m[\"mood\"]=mood[y].text.replace(\",\",\"\")\n",
    "  l.append(m)\n",
    "  m={}\n",
    "\n",
    "o[\"facebook\"]=soup.find(\"a\",{\"data-uia\":\"social-link-facebook\"}).get(\"href\")\n",
    "\n",
    "o[\"twitter\"]=soup.find(\"a\",{\"data-uia\":\"social-link-twitter\"}).get(\"href\")\n",
    "\n",
    "o[\"instagram\"]=soup.find(\"a\",{\"data-uia\":\"social-link-instagram\"}).get(\"href\")\n",
    "\n",
    "cast=soup.find_all(\"span\",{\"class\":\"item-cast\"})\n",
    "for t in range(0,len(cast)):\n",
    "  c[\"cast\"]=cast[t].text\n",
    "  l.append(c)\n",
    "  c={}\n",
    "l.append(o)\n",
    "\n",
    "print(l)"
   ]
  },
  {
   "cell_type": "code",
   "execution_count": null,
   "id": "a2f1c332-30b0-461b-b8b6-165b34779b09",
   "metadata": {},
   "outputs": [],
   "source": []
  }
 ],
 "metadata": {
  "kernelspec": {
   "display_name": "Python 3 (ipykernel)",
   "language": "python",
   "name": "python3"
  },
  "language_info": {
   "codemirror_mode": {
    "name": "ipython",
    "version": 3
   },
   "file_extension": ".py",
   "mimetype": "text/x-python",
   "name": "python",
   "nbconvert_exporter": "python",
   "pygments_lexer": "ipython3",
   "version": "3.12.4"
  }
 },
 "nbformat": 4,
 "nbformat_minor": 5
}
